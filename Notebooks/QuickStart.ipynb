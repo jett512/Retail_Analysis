{
  "nbformat": 4,
  "nbformat_minor": 0,
  "metadata": {
    "colab": {
      "private_outputs": true,
      "provenance": []
    },
    "kernelspec": {
      "name": "python3",
      "display_name": "Python 3"
    },
    "language_info": {
      "name": "python"
    }
  },
  "cells": [
    {
      "cell_type": "code",
      "execution_count": null,
      "metadata": {
        "id": "yDJiqZeU5B8g"
      },
      "outputs": [],
      "source": [
        "!unzip /content/Michaels.zip"
      ]
    },
    {
      "cell_type": "code",
      "source": [
        "!pip install -r /content/Michaels/requirements.txt"
      ],
      "metadata": {
        "id": "4IGNBtrW5PLz"
      },
      "execution_count": null,
      "outputs": []
    },
    {
      "cell_type": "code",
      "source": [
        "import os\n",
        "import pandas as pd\n",
        "os.chdir(r'/content/Michaels')\n",
        "print(os.getcwd())\n",
        "!python main.py"
      ],
      "metadata": {
        "id": "wuVc5BzN5VyO"
      },
      "execution_count": null,
      "outputs": []
    },
    {
      "cell_type": "code",
      "source": [
        "df_1 = pd.read_csv('/content/Michaels/Results/analysis/top_margin_segments.csv')\n",
        "df_2 = pd.read_csv('/content/Michaels/Results/analysis/bottom_margin_segments.csv')\n",
        "\n",
        "df_3 = pd.read_csv('/content/Michaels/Results/analysis/top_sales_segments.csv')\n",
        "df_4 = pd.read_csv('/content/Michaels/Results/analysis/bottom_sales_segments.csv')\n",
        "\n",
        "print(df_1)\n",
        "print(df_2)\n",
        "print('\\n')\n",
        "print(df_3)\n",
        "print(df_4)"
      ],
      "metadata": {
        "id": "6n_ctN6P6NXd"
      },
      "execution_count": null,
      "outputs": []
    },
    {
      "cell_type": "code",
      "source": [
        "combined_df = pd.concat([df_1, df_2, df_3, df_4], ignore_index=True)\n",
        "combined_df = combined_df.drop_duplicates(subset=['ATTRIBUTE_2', 'ATTRIBUTE_3'])\n",
        "combined_df['performance_score'] = combined_df['avg_sales_revenue'] * combined_df['avg_profit_margin']\n",
        "\n",
        "top_performers = combined_df.sort_values(by='performance_score', ascending=False)\n",
        "display(top_performers)"
      ],
      "metadata": {
        "id": "4_kSIUPU7Qlz"
      },
      "execution_count": null,
      "outputs": []
    }
  ]
}