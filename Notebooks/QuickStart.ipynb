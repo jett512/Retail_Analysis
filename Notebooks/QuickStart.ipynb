{
  "nbformat": 4,
  "nbformat_minor": 0,
  "metadata": {
    "colab": {
      "private_outputs": true,
      "provenance": []
    },
    "kernelspec": {
      "name": "python3",
      "display_name": "Python 3"
    },
    "language_info": {
      "name": "python"
    }
  },
  "cells": [
    {
      "cell_type": "code",
      "execution_count": null,
      "metadata": {
        "id": "yDJiqZeU5B8g"
      },
      "outputs": [],
      "source": [
        "!unzip /content/Retail_Analysis-main.zip"
      ]
    },
    {
      "cell_type": "code",
      "source": [
        "!pip install -r /content/Retail_Analysis-main/requirements.txt"
      ],
      "metadata": {
        "id": "4IGNBtrW5PLz"
      },
      "execution_count": null,
      "outputs": []
    },
    {
      "cell_type": "code",
      "source": [
        "import os\n",
        "import pandas as pd\n",
        "os.chdir(r'/content/Retail_Analysis-main')\n",
        "print(os.getcwd())\n",
        "!python main.py"
      ],
      "metadata": {
        "id": "wuVc5BzN5VyO"
      },
      "execution_count": null,
      "outputs": []
    },
    {
      "cell_type": "code",
      "source": [
        "df_1 = pd.read_csv('/content/Retail_Analysis-main/Results/analysis/top_margin_segments.csv')\n",
        "df_2 = pd.read_csv('/content/Retail_Analysis-main/Results/analysis/bottom_margin_segments.csv')\n",
        "\n",
        "df_3 = pd.read_csv('/content/Retail_Analysis-main/Results/analysis/top_sales_segments.csv')\n",
        "df_4 = pd.read_csv('/content/Retail_Analysis-main/Results/analysis/bottom_sales_segments.csv')\n",
        "\n",
        "print(df_1)\n",
        "print(df_2)\n",
        "print('\\n')\n",
        "print(df_3)\n",
        "print(df_4)"
      ],
      "metadata": {
        "id": "6n_ctN6P6NXd"
      },
      "execution_count": null,
      "outputs": []
    },
    {
      "cell_type": "code",
      "source": [
        "df = pd.read_csv('/content/Retail_Analysis-main/Results/analysis/top_performers.csv')\n",
        "\n",
        "display(df.head())"
      ],
      "metadata": {
        "id": "4_kSIUPU7Qlz"
      },
      "execution_count": null,
      "outputs": []
    }
  ]
}